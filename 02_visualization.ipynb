{
 "cells": [
  {
   "cell_type": "markdown",
   "id": "9f7fbb7c",
   "metadata": {
    "id": "Bug1kQhloB4Y"
   },
   "source": [
    "# 02_Visualization"
   ]
  },
  {
   "cell_type": "markdown",
   "id": "6bafdb33",
   "metadata": {
    "id": "A8WKbOipoB4c"
   },
   "source": [
    "### Import Libraries"
   ]
  },
  {
   "cell_type": "code",
   "execution_count": null,
   "id": "86b00541",
   "metadata": {
    "id": "MSVCpEGvoB4b"
   },
   "outputs": [],
   "source": [
    "import numpy as np\n",
    "import pandas as pd\n",
    "import matplotlib.pyplot as plt"
   ]
  },
  {
   "cell_type": "markdown",
   "id": "129b4b71",
   "metadata": {
    "id": "A8WKbOipoB4c"
   },
   "source": [
    "### Define File Paths"
   ]
  },
  {
   "cell_type": "code",
   "execution_count": null,
   "id": "93fa12f9",
   "metadata": {
    "id": "q8itMUInoB4d"
   },
   "outputs": [],
   "source": [
    "fname_result_ko = 'data/result_ko.pkl'\n",
    "fname_result_in = 'data/result_in.pkl'"
   ]
  },
  {
   "cell_type": "markdown",
   "id": "add35941",
   "metadata": {},
   "source": [
    "### Read the Result"
   ]
  },
  {
   "cell_type": "code",
   "execution_count": null,
   "id": "bb360f28",
   "metadata": {},
   "outputs": [],
   "source": [
    "df_ko = pd.read_pickle(fname_result_ko)\n",
    "df_in = pd.read_pickle(fname_result_in)"
   ]
  },
  {
   "cell_type": "code",
   "execution_count": null,
   "id": "eb9087ab",
   "metadata": {},
   "outputs": [],
   "source": [
    "df_ko.drop(['doc_id', 'Title', 'URL', 'Date Created', 'Summary', 'Contents'], axis = 1, inplace = True)\n",
    "df_in.drop(['doc_id', 'Title', 'URL', 'Date Created', 'Summary', 'Contents'], axis = 1, inplace = True)"
   ]
  },
  {
   "cell_type": "markdown",
   "id": "2acc5c80",
   "metadata": {},
   "source": [
    "### Convert Score Ranges"
   ]
  },
  {
   "cell_type": "code",
   "execution_count": null,
   "id": "401206f2",
   "metadata": {},
   "outputs": [],
   "source": [
    "MAX = max(df_ko.max().max(),df_in.max().max())\n",
    "MAX"
   ]
  },
  {
   "cell_type": "code",
   "execution_count": null,
   "id": "09fc051a",
   "metadata": {},
   "outputs": [],
   "source": [
    "MIN = min(df_ko.min().min(),df_in.min().min())\n",
    "MIN"
   ]
  },
  {
   "cell_type": "code",
   "execution_count": null,
   "id": "e21933a4",
   "metadata": {},
   "outputs": [],
   "source": [
    "def func(x):\n",
    "    return (x - MIN)*100 / (MAX - MIN)"
   ]
  },
  {
   "cell_type": "code",
   "execution_count": null,
   "id": "f1e63303",
   "metadata": {
    "scrolled": true
   },
   "outputs": [],
   "source": [
    "df_ko = df_ko.applymap(func)\n",
    "df_ko"
   ]
  },
  {
   "cell_type": "code",
   "execution_count": null,
   "id": "c865909e",
   "metadata": {
    "scrolled": true
   },
   "outputs": [],
   "source": [
    "df_in = df_in.applymap(func)\n",
    "df_in"
   ]
  },
  {
   "cell_type": "markdown",
   "id": "2ac0e27b",
   "metadata": {},
   "source": [
    "### Import libraries for Visualization"
   ]
  },
  {
   "cell_type": "code",
   "execution_count": null,
   "id": "c7177cc0",
   "metadata": {},
   "outputs": [],
   "source": [
    "from matplotlib import rcParams\n",
    "rcParams['font.size'] = 18\n",
    "plt.rc('figure', figsize=(20, 8))\n",
    "rcParams['axes.unicode_minus'] = False"
   ]
  },
  {
   "cell_type": "markdown",
   "id": "45a67d10",
   "metadata": {
    "id": "x_QhMQsPoB4i"
   },
   "source": [
    "### Visualization: 4 Keywords"
   ]
  },
  {
   "cell_type": "code",
   "execution_count": null,
   "id": "50514132",
   "metadata": {},
   "outputs": [],
   "source": [
    "def gen_gp4(df):\n",
    "\n",
    "    df_res = pd.DataFrame()\n",
    "\n",
    "    df_res['Agility']      = pd.concat([df['Speed'],     df['Precision']])\n",
    "    df_res['Benchmarking'] = pd.concat([df['Learning'],  df['Best Practice']])\n",
    "    df_res['Convergence']  = pd.concat([df['Mix'],       df['Synergy']])\n",
    "    df_res['Dedication']   = pd.concat([df['Diligence'], df['Goal']])\n",
    "    \n",
    "    return df_res"
   ]
  },
  {
   "cell_type": "code",
   "execution_count": null,
   "id": "b801149c",
   "metadata": {},
   "outputs": [],
   "source": [
    "df_ko_4 = gen_gp4(df_ko)\n",
    "df_in_4 = gen_gp4(df_in)"
   ]
  },
  {
   "cell_type": "code",
   "execution_count": null,
   "id": "b99b859c",
   "metadata": {},
   "outputs": [],
   "source": [
    "sr_ko_4 = df_ko_4.apply(lambda x:x.mean())\n",
    "sr_in_4 = df_in_4.apply(lambda x:x.mean())"
   ]
  },
  {
   "cell_type": "code",
   "execution_count": null,
   "id": "0f2ba804",
   "metadata": {},
   "outputs": [],
   "source": [
    "df_4 = pd.concat([sr_ko_4, sr_in_4], axis=1)\n",
    "df_4.rename(columns={0: 'South Korea', 1: 'India'}, inplace=True)\n",
    "df_4"
   ]
  },
  {
   "cell_type": "code",
   "execution_count": null,
   "id": "67306ced",
   "metadata": {
    "scrolled": false
   },
   "outputs": [],
   "source": [
    "df_4.plot(kind='bar', rot=0)\n",
    "plt.grid(True, alpha=0.2, zorder=0)\n",
    "plt.ylim(25,45)\n",
    "plt.yticks([25, 30, 35, 40, 45])\n",
    "plt.legend(loc='upper left')\n",
    "plt.show()"
   ]
  },
  {
   "cell_type": "markdown",
   "id": "f989e2b5",
   "metadata": {
    "id": "x_QhMQsPoB4i"
   },
   "source": [
    "### Visualization: 8 Keywords"
   ]
  },
  {
   "cell_type": "code",
   "execution_count": null,
   "id": "2028bab5",
   "metadata": {},
   "outputs": [],
   "source": [
    "sr_ko = df_ko.apply(lambda x:x.mean())\n",
    "sr_in = df_in.apply(lambda x:x.mean())"
   ]
  },
  {
   "cell_type": "code",
   "execution_count": null,
   "id": "37aead2b",
   "metadata": {},
   "outputs": [],
   "source": [
    "df = pd.concat([sr_ko, sr_in], axis=1)\n",
    "df.rename(columns={0: 'South Korea', 1: 'India'}, inplace=True)\n",
    "df"
   ]
  },
  {
   "cell_type": "code",
   "execution_count": null,
   "id": "18affa14",
   "metadata": {
    "scrolled": false
   },
   "outputs": [],
   "source": [
    "df.plot(kind='bar', rot=0)\n",
    "plt.grid(True, alpha=0.2, zorder=0)\n",
    "plt.ylim(25,45)\n",
    "plt.yticks([25, 30, 35, 40, 45])\n",
    "plt.legend(loc='upper left')\n",
    "plt.show()"
   ]
  },
  {
   "cell_type": "markdown",
   "id": "e1a5bfe0",
   "metadata": {
    "id": "H8hpKCe3oB4i"
   },
   "source": [
    "---"
   ]
  },
  {
   "cell_type": "code",
   "execution_count": null,
   "id": "80bf570d",
   "metadata": {
    "id": "rxw4TkmwoB4i"
   },
   "outputs": [],
   "source": [
    "# End of file"
   ]
  },
  {
   "cell_type": "code",
   "execution_count": null,
   "id": "dca564ca",
   "metadata": {
    "id": "dbC-aCnKoB4i"
   },
   "outputs": [],
   "source": []
  }
 ],
 "metadata": {
  "accelerator": "GPU",
  "colab": {
   "collapsed_sections": [],
   "name": "02_calculate_score_transformers.ipynb",
   "provenance": []
  },
  "kernelspec": {
   "display_name": "Python 3",
   "language": "python",
   "name": "python3"
  },
  "language_info": {
   "codemirror_mode": {
    "name": "ipython",
    "version": 3
   },
   "file_extension": ".py",
   "mimetype": "text/x-python",
   "name": "python",
   "nbconvert_exporter": "python",
   "pygments_lexer": "ipython3",
   "version": "3.8.8"
  },
  "vp": {
   "vp_config_version": "1.0.0",
   "vp_menu_width": 273,
   "vp_note_display": true,
   "vp_note_width": 263,
   "vp_position": {
    "width": 541
   },
   "vp_section_display": false,
   "vp_signature": "VisualPython"
  }
 },
 "nbformat": 4,
 "nbformat_minor": 5
}
