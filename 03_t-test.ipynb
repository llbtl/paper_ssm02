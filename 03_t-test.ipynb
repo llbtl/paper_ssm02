{
 "cells": [
  {
   "cell_type": "markdown",
   "id": "9f7fbb7c",
   "metadata": {
    "id": "Bug1kQhloB4Y"
   },
   "source": [
    "# 03_T-test"
   ]
  },
  {
   "cell_type": "markdown",
   "id": "6bafdb33",
   "metadata": {
    "id": "A8WKbOipoB4c"
   },
   "source": [
    "### Import Libraries"
   ]
  },
  {
   "cell_type": "code",
   "execution_count": null,
   "id": "86b00541",
   "metadata": {
    "id": "MSVCpEGvoB4b"
   },
   "outputs": [],
   "source": [
    "import numpy as np\n",
    "import pandas as pd\n",
    "import matplotlib.pyplot as plt\n",
    "\n",
    "import scipy.stats as stats\n",
    "from statsmodels.formula.api import ols\n",
    "from statsmodels.stats.anova import anova_lm"
   ]
  },
  {
   "cell_type": "markdown",
   "id": "129b4b71",
   "metadata": {
    "id": "A8WKbOipoB4c"
   },
   "source": [
    "### Define File Paths"
   ]
  },
  {
   "cell_type": "code",
   "execution_count": null,
   "id": "93fa12f9",
   "metadata": {
    "id": "q8itMUInoB4d"
   },
   "outputs": [],
   "source": [
    "fname_result_ko = 'data/result_ko.pkl'\n",
    "fname_result_in = 'data/result_in.pkl'"
   ]
  },
  {
   "cell_type": "markdown",
   "id": "1bdfee1f",
   "metadata": {},
   "source": [
    "### Read the Result"
   ]
  },
  {
   "cell_type": "code",
   "execution_count": null,
   "id": "bb360f28",
   "metadata": {},
   "outputs": [],
   "source": [
    "df_ko = pd.read_pickle(fname_result_ko)\n",
    "df_in = pd.read_pickle(fname_result_in)"
   ]
  },
  {
   "cell_type": "code",
   "execution_count": null,
   "id": "eb9087ab",
   "metadata": {},
   "outputs": [],
   "source": [
    "df_ko.drop(['doc_id', 'Title', 'URL', 'Date Created', 'Summary', 'Contents'], axis = 1, inplace = True)\n",
    "df_in.drop(['doc_id', 'Title', 'URL', 'Date Created', 'Summary', 'Contents'], axis = 1, inplace = True)"
   ]
  },
  {
   "cell_type": "markdown",
   "id": "2acc5c80",
   "metadata": {},
   "source": [
    "### Convert Score Ranges"
   ]
  },
  {
   "cell_type": "code",
   "execution_count": null,
   "id": "401206f2",
   "metadata": {},
   "outputs": [],
   "source": [
    "MAX = max(df_ko.max().max(),df_in.max().max())\n",
    "MAX"
   ]
  },
  {
   "cell_type": "code",
   "execution_count": null,
   "id": "09fc051a",
   "metadata": {},
   "outputs": [],
   "source": [
    "MIN = min(df_ko.min().min(),df_in.min().min())\n",
    "MIN"
   ]
  },
  {
   "cell_type": "code",
   "execution_count": null,
   "id": "e21933a4",
   "metadata": {},
   "outputs": [],
   "source": [
    "def func(x):\n",
    "    return (x - MIN)*100 / (MAX - MIN)"
   ]
  },
  {
   "cell_type": "code",
   "execution_count": null,
   "id": "f1e63303",
   "metadata": {
    "scrolled": true
   },
   "outputs": [],
   "source": [
    "df_ko = df_ko.applymap(func)\n",
    "df_ko"
   ]
  },
  {
   "cell_type": "code",
   "execution_count": null,
   "id": "c865909e",
   "metadata": {
    "scrolled": true
   },
   "outputs": [],
   "source": [
    "df_in = df_in.applymap(func)\n",
    "df_in"
   ]
  },
  {
   "cell_type": "markdown",
   "id": "2fc8f51b",
   "metadata": {
    "id": "x_QhMQsPoB4i"
   },
   "source": [
    "### T-test: 4 Keywords"
   ]
  },
  {
   "cell_type": "code",
   "execution_count": null,
   "id": "675d6676",
   "metadata": {},
   "outputs": [],
   "source": [
    "def gen_gp4(df):\n",
    "\n",
    "    df_res = pd.DataFrame()\n",
    "\n",
    "    df_res['Agility']      = pd.concat([df['Speed'],     df['Precision']])\n",
    "    df_res['Benchmarking'] = pd.concat([df['Learning'],  df['Best Practice']])\n",
    "    df_res['Convergence']  = pd.concat([df['Mix'],       df['Synergy']])\n",
    "    df_res['Dedication']   = pd.concat([df['Diligence'], df['Goal']])\n",
    "    \n",
    "    return df_res"
   ]
  },
  {
   "cell_type": "code",
   "execution_count": null,
   "id": "c3365ea9",
   "metadata": {},
   "outputs": [],
   "source": [
    "df_ko_4 = gen_gp4(df_ko)\n",
    "df_in_4 = gen_gp4(df_in)"
   ]
  },
  {
   "cell_type": "code",
   "execution_count": null,
   "id": "4b08e0d1",
   "metadata": {
    "scrolled": false
   },
   "outputs": [],
   "source": [
    "result = stats.ttest_ind(df_ko_4['Agility'], df_in_4['Agility'], equal_var=False)\n",
    "print('Agility \\nt statistic : %.3f \\np-value : %.3f' % (result))"
   ]
  },
  {
   "cell_type": "code",
   "execution_count": null,
   "id": "44070e3d",
   "metadata": {},
   "outputs": [],
   "source": [
    "result = stats.ttest_ind(df_ko_4['Benchmarking'], df_in_4['Benchmarking'], equal_var=False) \n",
    "print('Benchmarking \\nt statistic : %.3f \\np-value : %.3f' % (result))"
   ]
  },
  {
   "cell_type": "code",
   "execution_count": null,
   "id": "789f89df",
   "metadata": {},
   "outputs": [],
   "source": [
    "result = stats.ttest_ind(df_ko_4['Convergence'], df_in_4['Convergence'], equal_var=False) \n",
    "print('Convergence \\nt statistic : %.3f \\np-value : %.3f' % (result))"
   ]
  },
  {
   "cell_type": "code",
   "execution_count": null,
   "id": "4b0159f2",
   "metadata": {},
   "outputs": [],
   "source": [
    "result = stats.ttest_ind(df_ko_4['Dedication'], df_in_4['Dedication'], equal_var=False) \n",
    "print('Dedication \\nt statistic : %.3f \\np-value : %.3f' % (result))"
   ]
  },
  {
   "cell_type": "markdown",
   "id": "79a4bb07",
   "metadata": {
    "id": "x_QhMQsPoB4i"
   },
   "source": [
    "### T-test: 8 Keywords"
   ]
  },
  {
   "cell_type": "code",
   "execution_count": null,
   "id": "b0b59a0e",
   "metadata": {
    "scrolled": true
   },
   "outputs": [],
   "source": [
    "result = stats.ttest_ind(df_ko['Speed'], df_in['Speed'], equal_var=False) \n",
    "print('Speed \\nt statistic : %.3f \\np-value : %.3f' % (result))"
   ]
  },
  {
   "cell_type": "code",
   "execution_count": null,
   "id": "b647d27d",
   "metadata": {},
   "outputs": [],
   "source": [
    "result = stats.ttest_ind(df_ko['Precision'], df_in['Precision'], equal_var=False)\n",
    "print('Precision \\nt statistic : %.3f \\np-value : %.3f' % (result))"
   ]
  },
  {
   "cell_type": "code",
   "execution_count": null,
   "id": "3f500532",
   "metadata": {},
   "outputs": [],
   "source": [
    "result = stats.ttest_ind(df_ko['Learning'], df_in['Learning'], equal_var=False)\n",
    "print('Learning \\nt statistic : %.3f \\np-value : %.3f' % (result))"
   ]
  },
  {
   "cell_type": "code",
   "execution_count": null,
   "id": "e905cc98",
   "metadata": {},
   "outputs": [],
   "source": [
    "result = stats.ttest_ind(df_ko['Best Practice'], df_in['Best Practice'], equal_var=False)\n",
    "print('Best Practice \\nt statistic : %.3f \\np-value : %.3f' % (result))"
   ]
  },
  {
   "cell_type": "code",
   "execution_count": null,
   "id": "b6791342",
   "metadata": {
    "scrolled": false
   },
   "outputs": [],
   "source": [
    "result = stats.ttest_ind(df_ko['Mix'], df_in['Mix'], equal_var=False)\n",
    "print('Mix \\nt statistic : %.3f \\np-value : %.3f' % (result))"
   ]
  },
  {
   "cell_type": "code",
   "execution_count": null,
   "id": "bc852c66",
   "metadata": {},
   "outputs": [],
   "source": [
    "result = stats.ttest_ind(df_ko['Synergy'], df_in['Synergy'], equal_var=False)\n",
    "print('Synergy \\nt statistic : %.3f \\np-value : %.3f' % (result))"
   ]
  },
  {
   "cell_type": "code",
   "execution_count": null,
   "id": "e25948b5",
   "metadata": {},
   "outputs": [],
   "source": [
    "result = stats.ttest_ind(df_ko['Diligence'], df_in['Diligence'], equal_var=False)\n",
    "print('Diligence \\nt statistic : %.3f \\np-value : %.3f' % (result))"
   ]
  },
  {
   "cell_type": "code",
   "execution_count": null,
   "id": "df999ecc",
   "metadata": {},
   "outputs": [],
   "source": [
    "result = stats.ttest_ind(df_ko['Goal'], df_in['Goal'], equal_var=False)\n",
    "print('Goal \\nt statistic : %.3f \\np-value : %.3f' % (result))"
   ]
  },
  {
   "cell_type": "markdown",
   "id": "e1a5bfe0",
   "metadata": {
    "id": "H8hpKCe3oB4i"
   },
   "source": [
    "---"
   ]
  },
  {
   "cell_type": "code",
   "execution_count": null,
   "id": "80bf570d",
   "metadata": {
    "id": "rxw4TkmwoB4i"
   },
   "outputs": [],
   "source": [
    "# End of file"
   ]
  },
  {
   "cell_type": "code",
   "execution_count": null,
   "id": "dca564ca",
   "metadata": {
    "id": "dbC-aCnKoB4i"
   },
   "outputs": [],
   "source": []
  }
 ],
 "metadata": {
  "accelerator": "GPU",
  "colab": {
   "collapsed_sections": [],
   "name": "02_calculate_score_transformers.ipynb",
   "provenance": []
  },
  "kernelspec": {
   "display_name": "Python 3",
   "language": "python",
   "name": "python3"
  },
  "language_info": {
   "codemirror_mode": {
    "name": "ipython",
    "version": 3
   },
   "file_extension": ".py",
   "mimetype": "text/x-python",
   "name": "python",
   "nbconvert_exporter": "python",
   "pygments_lexer": "ipython3",
   "version": "3.8.8"
  },
  "vp": {
   "vp_config_version": "1.0.0",
   "vp_menu_width": 273,
   "vp_note_display": true,
   "vp_note_width": 263,
   "vp_position": {
    "width": 541
   },
   "vp_section_display": false,
   "vp_signature": "VisualPython"
  }
 },
 "nbformat": 4,
 "nbformat_minor": 5
}
