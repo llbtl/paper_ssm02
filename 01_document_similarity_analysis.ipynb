{
 "cells": [
  {
   "cell_type": "markdown",
   "id": "9f7fbb7c",
   "metadata": {
    "id": "Bug1kQhloB4Y"
   },
   "source": [
    "# 01_Document Similarity Analysis"
   ]
  },
  {
   "cell_type": "markdown",
   "id": "6bafdb33",
   "metadata": {
    "id": "A8WKbOipoB4c"
   },
   "source": [
    "### Import Libraries"
   ]
  },
  {
   "cell_type": "code",
   "execution_count": null,
   "id": "86b00541",
   "metadata": {
    "id": "MSVCpEGvoB4b"
   },
   "outputs": [],
   "source": [
    "import numpy as np\n",
    "import pandas as pd\n",
    "import matplotlib.pyplot as plt"
   ]
  },
  {
   "cell_type": "code",
   "execution_count": null,
   "id": "53e10ab2",
   "metadata": {},
   "outputs": [],
   "source": [
    "from nltk.tokenize import sent_tokenize"
   ]
  },
  {
   "cell_type": "code",
   "execution_count": null,
   "id": "7a044f93",
   "metadata": {
    "id": "MSVCpEGvoB4b"
   },
   "outputs": [],
   "source": [
    "from sentence_transformers import SentenceTransformer, util"
   ]
  },
  {
   "cell_type": "markdown",
   "id": "129b4b71",
   "metadata": {
    "id": "A8WKbOipoB4c"
   },
   "source": [
    "### Define File Paths"
   ]
  },
  {
   "cell_type": "code",
   "execution_count": null,
   "id": "93fa12f9",
   "metadata": {
    "id": "q8itMUInoB4d"
   },
   "outputs": [],
   "source": [
    "fname_abcd      = 'data/abcd_keywords.xlsx'\n",
    "fname_news      = 'data/news.xlsx'\n",
    "fname_result_ko = 'data/result_ko.pkl'\n",
    "fname_result_in = 'data/result_in.pkl'"
   ]
  },
  {
   "cell_type": "markdown",
   "id": "57cd3051",
   "metadata": {
    "id": "b3wOqoNioB4d"
   },
   "source": [
    "### Read ABCD Keywords"
   ]
  },
  {
   "cell_type": "code",
   "execution_count": null,
   "id": "ea4d186b",
   "metadata": {
    "colab": {
     "base_uri": "https://localhost:8080/",
     "height": 419
    },
    "id": "UDj-iWpBoB4d",
    "outputId": "2965c007-d70b-42e7-9056-55cb0615f638"
   },
   "outputs": [],
   "source": [
    "df_abcd = pd.read_excel(fname_abcd, header=[0, 1])"
   ]
  },
  {
   "cell_type": "code",
   "execution_count": null,
   "id": "45503861",
   "metadata": {
    "scrolled": true
   },
   "outputs": [],
   "source": [
    "df_abcd"
   ]
  },
  {
   "cell_type": "code",
   "execution_count": null,
   "id": "af78b98b",
   "metadata": {
    "scrolled": true
   },
   "outputs": [],
   "source": [
    "df_abcd_m = df_abcd.melt()\n",
    "df_abcd_m"
   ]
  },
  {
   "cell_type": "markdown",
   "id": "f3f71040",
   "metadata": {
    "id": "BgyXbw0BoB4e"
   },
   "source": [
    "### Read Articles & Clean Data"
   ]
  },
  {
   "cell_type": "code",
   "execution_count": null,
   "id": "5360ea05",
   "metadata": {
    "colab": {
     "base_uri": "https://localhost:8080/",
     "height": 419
    },
    "id": "Il1_uNCIoB4f",
    "outputId": "2ac4a895-da4e-4073-9819-c30a363af581",
    "scrolled": true
   },
   "outputs": [],
   "source": [
    "df_news_ko = pd.read_excel(fname_news, sheet_name='South Korea')"
   ]
  },
  {
   "cell_type": "code",
   "execution_count": null,
   "id": "a1d2cb8e",
   "metadata": {},
   "outputs": [],
   "source": [
    "# Replace characters that are not on the keyboard with a space.\n",
    "reg_str = r'[^!\"#$%&\\'()*+,-./:;<=>?@\\[\\]^_\\`{|}~\\\\\\\\0-9a-zA-Z]'\n",
    "df_news_ko['Contents'] = df_news_ko['Contents'].str.replace(reg_str,' ', regex=True)"
   ]
  },
  {
   "cell_type": "code",
   "execution_count": null,
   "id": "43eb11ee",
   "metadata": {
    "colab": {
     "base_uri": "https://localhost:8080/",
     "height": 419
    },
    "id": "Il1_uNCIoB4f",
    "outputId": "2ac4a895-da4e-4073-9819-c30a363af581"
   },
   "outputs": [],
   "source": [
    "df_news_in = pd.read_excel(fname_news, sheet_name='India')"
   ]
  },
  {
   "cell_type": "code",
   "execution_count": null,
   "id": "8f46ac63",
   "metadata": {},
   "outputs": [],
   "source": [
    "# Replace characters that are not on the keyboard with a space.\n",
    "reg_str = r'[^!\"#$%&\\'()*+,-./:;<=>?@\\[\\]^_\\`{|}~\\\\\\\\0-9a-zA-Z]'\n",
    "df_news_in['Contents'] = df_news_in['Contents'].str.replace(reg_str,' ', regex=True)"
   ]
  },
  {
   "cell_type": "markdown",
   "id": "4861439f",
   "metadata": {},
   "source": [
    "### Define Function: Generate Document"
   ]
  },
  {
   "cell_type": "code",
   "execution_count": null,
   "id": "116afacf",
   "metadata": {},
   "outputs": [],
   "source": [
    "def gen_document(doc_id, Title, URL, Date_Created, Summary, sent_lst):\n",
    "\n",
    "    df_tmp = pd.DataFrame(\n",
    "        {\n",
    "            'doc_id'      : doc_id,\n",
    "            'Title'       : Title,\n",
    "            'URL'         : URL,\n",
    "            'Date Created': Date_Created,\n",
    "            'Summary'     : Summary,\n",
    "            'Contents'    : sent_lst\n",
    "        }\n",
    "    )\n",
    "    \n",
    "    return df_tmp"
   ]
  },
  {
   "cell_type": "code",
   "execution_count": null,
   "id": "e2051ec9",
   "metadata": {},
   "outputs": [],
   "source": [
    "def gen_DataFrame(df):\n",
    "    \n",
    "    # Create empty DataFrame\n",
    "    df_res = pd.DataFrame()\n",
    "\n",
    "    for i, row in enumerate(df.itertuples()):\n",
    "        sent_lst = sent_tokenize(row.Contents)\n",
    "        df_doc   = gen_document(i, row.Title, row.URL, row._3, row.Summary, sent_lst)\n",
    "        df_res   = pd.concat([df_res,df_doc])\n",
    "        \n",
    "    df_res.reset_index(inplace=True)\n",
    "    df_res.drop('index', axis=1, inplace=True)\n",
    "    \n",
    "    return df_res"
   ]
  },
  {
   "cell_type": "code",
   "execution_count": null,
   "id": "e0edc961",
   "metadata": {
    "scrolled": true
   },
   "outputs": [],
   "source": [
    "df_ko = gen_DataFrame(df_news_ko)\n",
    "df_ko"
   ]
  },
  {
   "cell_type": "code",
   "execution_count": null,
   "id": "b6cd8672",
   "metadata": {},
   "outputs": [],
   "source": [
    "df_in = gen_DataFrame(df_news_in)\n",
    "df_in"
   ]
  },
  {
   "cell_type": "markdown",
   "id": "dc6aab69",
   "metadata": {
    "id": "krfJJbgvoB4f"
   },
   "source": [
    "### Define Function: Document Similarity Calculation"
   ]
  },
  {
   "cell_type": "code",
   "execution_count": null,
   "id": "26a3ac26",
   "metadata": {
    "colab": {
     "base_uri": "https://localhost:8080/"
    },
    "id": "Fhgvu3jYoB4f",
    "outputId": "fab3e6bd-c9c4-4acb-a61b-99ace60fa766"
   },
   "outputs": [],
   "source": [
    "def get_similarity(df_con):\n",
    "    model = SentenceTransformer('all-MiniLM-L6-v2')\n",
    "\n",
    "    #Create Document lists\n",
    "    document1 = df_abcd_m['value'].tolist()\n",
    "    document2 = df_con['Contents'].tolist()\n",
    "\n",
    "    #Compute embedding for both lists\n",
    "    embeddings1 = model.encode(document1, convert_to_tensor=True)\n",
    "    embeddings2 = model.encode(document2, convert_to_tensor=True)\n",
    "\n",
    "    #Compute cosine-similarits\n",
    "    cosine_scores = util.pytorch_cos_sim(embeddings1, embeddings2)\n",
    "    \n",
    "    return np.array(cosine_scores.cpu()).transpose()"
   ]
  },
  {
   "cell_type": "code",
   "execution_count": null,
   "id": "6ef1dfeb",
   "metadata": {},
   "outputs": [],
   "source": [
    "%%time\n",
    "sim_array_ko = get_similarity(df_ko)"
   ]
  },
  {
   "cell_type": "code",
   "execution_count": null,
   "id": "2113ac67",
   "metadata": {
    "scrolled": true
   },
   "outputs": [],
   "source": [
    "%%time\n",
    "sim_array_in = get_similarity(df_in)"
   ]
  },
  {
   "cell_type": "markdown",
   "id": "10342708",
   "metadata": {
    "id": "QGNG5_PjoB4g"
   },
   "source": [
    "### Document Similarity Score"
   ]
  },
  {
   "cell_type": "code",
   "execution_count": null,
   "id": "09c0eb8e",
   "metadata": {
    "colab": {
     "base_uri": "https://localhost:8080/"
    },
    "id": "OyxQs8akoB4h",
    "outputId": "bc414f6e-6976-40ea-d235-7ba18a9fec45",
    "scrolled": true
   },
   "outputs": [],
   "source": [
    "def set_score(sim_array, df_con):\n",
    "\n",
    "    sr_abcd = df_abcd_m['variable_1'].value_counts().reindex(['Speed','Precision',\n",
    "                                                              'Learning','Best Practice',\n",
    "                                                              'Mix','Synergy',\n",
    "                                                              'Diligence','Goal'])\n",
    "    # Initialize\n",
    "    for key in sr_abcd.index:\n",
    "        df_con[key] = 0.0\n",
    "\n",
    "    for idx in df_con.index:\n",
    "        off_b = 0\n",
    "        off_e = 0\n",
    "    \n",
    "        for key in sr_abcd.index:\n",
    "            off_b = off_e\n",
    "            off_e += sr_abcd[key]\n",
    "            df_con.loc[idx,key] = sim_array[idx][off_b:off_e].mean()\n",
    "        \n",
    "        if idx % 1000 == 0:\n",
    "            print('<cnt:{}, idx:{}> ======================'.format(idx//1000,idx))\n",
    "\n",
    "    print('==== End of job ======================')\n",
    "    \n",
    "    return df_con"
   ]
  },
  {
   "cell_type": "code",
   "execution_count": null,
   "id": "86fcd325",
   "metadata": {},
   "outputs": [],
   "source": [
    "%%time\n",
    "df_ko = set_score(sim_array_ko, df_ko)"
   ]
  },
  {
   "cell_type": "code",
   "execution_count": null,
   "id": "ff7197c9",
   "metadata": {},
   "outputs": [],
   "source": [
    "%%time\n",
    "df_in = set_score(sim_array_in, df_in)"
   ]
  },
  {
   "cell_type": "markdown",
   "id": "d722baef",
   "metadata": {
    "id": "x_QhMQsPoB4i"
   },
   "source": [
    "### Pickle the Result"
   ]
  },
  {
   "cell_type": "code",
   "execution_count": null,
   "id": "8b352efd",
   "metadata": {
    "id": "vv83mnj7oB4i"
   },
   "outputs": [],
   "source": [
    "df_ko.to_pickle(fname_result_ko)\n",
    "df_in.to_pickle(fname_result_in)"
   ]
  },
  {
   "cell_type": "markdown",
   "id": "e1a5bfe0",
   "metadata": {
    "id": "H8hpKCe3oB4i"
   },
   "source": [
    "---"
   ]
  },
  {
   "cell_type": "code",
   "execution_count": null,
   "id": "80bf570d",
   "metadata": {
    "id": "rxw4TkmwoB4i"
   },
   "outputs": [],
   "source": [
    "# End of file"
   ]
  },
  {
   "cell_type": "code",
   "execution_count": null,
   "id": "dca564ca",
   "metadata": {
    "id": "dbC-aCnKoB4i"
   },
   "outputs": [],
   "source": []
  }
 ],
 "metadata": {
  "accelerator": "GPU",
  "colab": {
   "collapsed_sections": [],
   "name": "02_calculate_score_transformers.ipynb",
   "provenance": []
  },
  "kernelspec": {
   "display_name": "Python 3",
   "language": "python",
   "name": "python3"
  },
  "language_info": {
   "codemirror_mode": {
    "name": "ipython",
    "version": 3
   },
   "file_extension": ".py",
   "mimetype": "text/x-python",
   "name": "python",
   "nbconvert_exporter": "python",
   "pygments_lexer": "ipython3",
   "version": "3.8.8"
  },
  "vp": {
   "vp_config_version": "1.0.0",
   "vp_menu_width": 273,
   "vp_note_display": true,
   "vp_note_width": 263,
   "vp_position": {
    "width": 541
   },
   "vp_section_display": false,
   "vp_signature": "VisualPython"
  }
 },
 "nbformat": 4,
 "nbformat_minor": 5
}
